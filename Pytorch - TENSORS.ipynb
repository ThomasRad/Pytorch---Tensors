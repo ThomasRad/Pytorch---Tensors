{
 "cells": [
  {
   "cell_type": "code",
   "execution_count": 1,
   "metadata": {},
   "outputs": [],
   "source": [
    "# Import \n",
    "\n",
    "import torch\n",
    "import numpy as np"
   ]
  },
  {
   "cell_type": "code",
   "execution_count": 4,
   "metadata": {},
   "outputs": [],
   "source": [
    "# We can create a tensor from given data. \n",
    "\n",
    "data = [[2,4],[3,5]]\n",
    "x_data = torch.tensor(data)"
   ]
  },
  {
   "cell_type": "code",
   "execution_count": 3,
   "metadata": {},
   "outputs": [],
   "source": [
    "# We can convert numpy arrays into tensors as well. \n",
    "\n",
    "np_array = np.array(data)\n",
    "x_np = torch.from_numpy(np_array)"
   ]
  },
  {
   "cell_type": "code",
   "execution_count": 6,
   "metadata": {},
   "outputs": [
    {
     "data": {
      "text/plain": [
       "tensor([[1, 1],\n",
       "        [1, 1]])"
      ]
     },
     "execution_count": 6,
     "metadata": {},
     "output_type": "execute_result"
    }
   ],
   "source": [
    "# We can take the shape of the data that we created and use the information to create tensors with given properties of interest.\n",
    "\n",
    "x_ones = torch.ones_like(x_data)\n",
    "x_ones"
   ]
  },
  {
   "cell_type": "code",
   "execution_count": 8,
   "metadata": {},
   "outputs": [
    {
     "data": {
      "text/plain": [
       "tensor([[0.2510, 0.2578, 0.5619, 0.1075],\n",
       "        [0.4771, 0.9347, 0.0193, 0.9917],\n",
       "        [0.5061, 0.0890, 0.0869, 0.5991]])"
      ]
     },
     "execution_count": 8,
     "metadata": {},
     "output_type": "execute_result"
    }
   ],
   "source": [
    "# We can define the shape of the tensor we want a create a specific tensor.\n",
    "\n",
    "shape = (3,4,)\n",
    "rand_tensor = torch.rand(shape)\n",
    "rand_tensor"
   ]
  },
  {
   "cell_type": "code",
   "execution_count": 17,
   "metadata": {},
   "outputs": [
    {
     "name": "stdout",
     "output_type": "stream",
     "text": [
      "The size of the tensor --> torch.Size([3, 4]) \n",
      "The data type of the tensor --> torch.float32 \n",
      "Where is it stored --> cpu\n"
     ]
    }
   ],
   "source": [
    "# Printing out some attributes of tensors. \n",
    "\n",
    "print('The size of the tensor -->',rand_tensor.shape,'\\nThe data type of the tensor -->',rand_tensor.dtype,'\\nWhere is it stored -->',rand_tensor.device)"
   ]
  },
  {
   "cell_type": "code",
   "execution_count": 18,
   "metadata": {},
   "outputs": [
    {
     "name": "stdout",
     "output_type": "stream",
     "text": [
      "tensor([[0.2510, 0.2578, 0.5619, 0.1075, 0.2510, 0.2578, 0.5619, 0.1075, 0.2510,\n",
      "         0.2578, 0.5619, 0.1075],\n",
      "        [0.4771, 0.9347, 0.0193, 0.9917, 0.4771, 0.9347, 0.0193, 0.9917, 0.4771,\n",
      "         0.9347, 0.0193, 0.9917],\n",
      "        [0.5061, 0.0890, 0.0869, 0.5991, 0.5061, 0.0890, 0.0869, 0.5991, 0.5061,\n",
      "         0.0890, 0.0869, 0.5991]])\n"
     ]
    }
   ],
   "source": [
    "# We can glue together tensors together. \n",
    "\n",
    "t1 = torch.cat([rand_tensor, rand_tensor, rand_tensor], dim=1)\n",
    "print(t1)"
   ]
  },
  {
   "cell_type": "code",
   "execution_count": 21,
   "metadata": {},
   "outputs": [
    {
     "data": {
      "text/plain": [
       "tensor([[0.4567, 0.4781, 0.2632],\n",
       "        [0.4781, 2.0851, 0.9204],\n",
       "        [0.2632, 0.9204, 0.6306]])"
      ]
     },
     "execution_count": 21,
     "metadata": {},
     "output_type": "execute_result"
    }
   ],
   "source": [
    "# Multiplying two tensors. \n",
    "\n",
    "y2 = rand_tensor.matmul(rand_tensor.T)\n",
    "y2"
   ]
  },
  {
   "cell_type": "markdown",
   "metadata": {},
   "source": [
    "# Completes the Tutorial"
   ]
  }
 ],
 "metadata": {
  "kernelspec": {
   "display_name": "Python 3",
   "language": "python",
   "name": "python3"
  },
  "language_info": {
   "codemirror_mode": {
    "name": "ipython",
    "version": 3
   },
   "file_extension": ".py",
   "mimetype": "text/x-python",
   "name": "python",
   "nbconvert_exporter": "python",
   "pygments_lexer": "ipython3",
   "version": "3.7.6"
  }
 },
 "nbformat": 4,
 "nbformat_minor": 4
}
